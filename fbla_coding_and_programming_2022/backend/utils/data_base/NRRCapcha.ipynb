{
 "cells": [
  {
   "cell_type": "code",
   "execution_count": 22,
   "metadata": {},
   "outputs": [],
   "source": [
    "from time import sleep\n",
    "from scrap import Scrap\n",
    "from bs4 import BeautifulSoup\n",
    "import random\n",
    "from lxml import html\n",
    "import re\n",
    "import requests\n",
    "import json\n",
    "import urllib\n",
    "import urllib3\n",
    "\n",
    "\n",
    "class UNDETECTED(Exception):\n",
    "    pass\n",
    "\n",
    "TARGET_CLASS = \"css-1422juy\";\n",
    "COMP_STATS = {\"website\":\"\", \"name\":\"\", \"address\":\"\", \"reviews\":-1, \"keywords\":\"\"}\n",
    "\n",
    "#COMPSTATS = {\"name\": \"\",\"category\": \"\",\"address\": \"\",\"phone\": \"\",\"price_range\": \"\",\"health_rating\": \"\",\"info\":\"\",\"working_hours\": \"\",\"ratings\": \"\",\"ratings_histogram\": \"\",\"claimed_status\": \"\",\"reviews\": \"\",\"website\": \"\",\"url\":\"\"}\n",
    "\n",
    "\n",
    "\n",
    "PROTOCAL = \"https://\"\n",
    "DOMAIN = \"www.yelp.com\"\n",
    "URL = PROTOCAL+DOMAIN;\n",
    "\n",
    "\n",
    "def parse(destination, location):\n",
    "    global URL\n",
    "    URL += \"/search?find_desc=\"+destination+\"&\"+\"find_loc=\"+location\n",
    "\n",
    "def ASD(d = -1):\n",
    "    if(d==-1):\n",
    "        d = random.randint(0,3);\n",
    "        \n",
    "    sleep(d);\n"
   ]
  },
  {
   "cell_type": "code",
   "execution_count": 23,
   "metadata": {},
   "outputs": [
    {
     "name": "stdout",
     "output_type": "stream",
     "text": [
      "https://www.yelp.com/search?find_desc=Museums&find_loc=San Jose, CA\n"
     ]
    }
   ],
   "source": [
    "parse(\"Museums\", \"San Jose, CA\")\n",
    "print(URL)"
   ]
  },
  {
   "cell_type": "code",
   "execution_count": 24,
   "metadata": {},
   "outputs": [
    {
     "name": "stdout",
     "output_type": "stream",
     "text": [
      "-----------REQ-----------\n",
      "GET  https://www.yelp.com/search?find_desc=Museums&find_loc=San%20Jose,%20CA\n",
      "RESPONSE  <Response [200]>\n"
     ]
    }
   ],
   "source": [
    "scrap = Scrap(URL);\n",
    "scrap.pretty_print_req();\n",
    "\n",
    "TOP_AV = scrap.soup.find_all(\"a\", class_=TARGET_CLASS);\n",
    "T = []\n",
    "for i in range(len(TOP_AV)):\n",
    "\n",
    "    if(\"search\" not in TOP_AV[i][\"href\"]):\n",
    "        T.append([TOP_AV[i].text,TOP_AV[i][\"href\"]]) #note actual url is DOMAIN+href\n",
    "\n",
    "ATTRACTION_L = len(T)"
   ]
  },
  {
   "cell_type": "code",
   "execution_count": 25,
   "metadata": {},
   "outputs": [
    {
     "name": "stdout",
     "output_type": "stream",
     "text": [
      "-----------REQ-----------\n",
      "GET  https://www.yelp.com/biz/rosicrucian-egyptian-museum-san-jose?osq=Museums\n",
      "RESPONSE  <Response [200]>\n",
      "-----------REQ-----------\n",
      "GET  https://www.yelp.com/biz/childrens-discovery-museum-san-jose?osq=Museums\n",
      "RESPONSE  <Response [200]>\n",
      "-----------REQ-----------\n",
      "GET  https://www.yelp.com/biz/the-tech-interactive-san-jose?osq=Museums\n",
      "RESPONSE  <Response [200]>\n",
      "-----------REQ-----------\n",
      "GET  https://www.yelp.com/biz/san-jose-institute-of-contemporary-art-san-jose?osq=Museums\n",
      "RESPONSE  <Response [200]>\n",
      "-----------REQ-----------\n",
      "GET  https://www.yelp.com/biz/beyond-van-gogh-san-jose?osq=Museums\n",
      "RESPONSE  <Response [200]>\n",
      "-----------REQ-----------\n",
      "GET  https://www.yelp.com/biz/winchester-mystery-house-san-jose?osq=Museums\n",
      "RESPONSE  <Response [200]>\n",
      "-----------REQ-----------\n",
      "GET  https://www.yelp.com/biz/san-jose-museum-of-art-san-jose?osq=Museums\n",
      "RESPONSE  <Response [200]>\n",
      "-----------REQ-----------\n",
      "GET  https://www.yelp.com/biz/triton-museum-of-art-santa-clara?osq=Museums\n",
      "RESPONSE  <Response [200]>\n",
      "-----------REQ-----------\n",
      "GET  https://www.yelp.com/biz/computer-history-museum-mountain-view?osq=Museums\n",
      "RESPONSE  <Response [200]>\n",
      "-----------REQ-----------\n",
      "GET  https://www.yelp.com/biz/japanese-american-museum-of-san-jose-san-jose?osq=Museums\n",
      "RESPONSE  <Response [200]>\n"
     ]
    }
   ],
   "source": [
    "TARGET_DIV = \"stickySidebar--fullHeight__09f24__kqHVd arrange-unit__09f24__rqHTg arrange-unit-grid-column--4__09f24__P05hD padding-l2__09f24__kf_t_ border-color--default__09f24__NPAKY\"\n",
    "data = [COMP_STATS.copy() for i in range(ATTRACTION_L)]\n",
    "\n",
    "COMPANY_PAGES = []\n",
    "\n",
    "for i in range(ATTRACTION_L):\n",
    "    LINK =  PROTOCAL+DOMAIN+T[i][1]\n",
    "\n",
    "    COMPANY_PAGES.append(Scrap(LINK));\n",
    "    COMPANY_PAGES[i].pretty_print_req()\n",
    "\n",
    "    data[i][\"name\"] = T[i][0] #DATA_NAME\n",
    "    ASD()"
   ]
  },
  {
   "cell_type": "code",
   "execution_count": 26,
   "metadata": {},
   "outputs": [
    {
     "name": "stdout",
     "output_type": "stream",
     "text": [
      "[{'website': 'http://www.rosicrucianegyptian…', 'name': 'Rosicrucian Egyptian Museum', 'address': '1660 Park Ave San Jose, CA 95191', 'reviews': 419, 'keywords': ''}, {'website': 'http://www.cdm.org', 'name': 'Children’s Discovery Museum', 'address': '180 Woz Way San Jose, CA 95110', 'reviews': 662, 'keywords': ''}, {'website': 'http://www.thetech.org', 'name': 'The Tech Interactive', 'address': '201 S Market St San Jose, CA 95113', 'reviews': 693, 'keywords': ''}, {'website': 'http://www.sjica.org', 'name': 'San Jose Institute of Contemporary Art', 'address': '560 S 1st St San Jose, CA 95113', 'reviews': 40, 'keywords': ''}, {'website': 'https://vangoghsanjose.com', 'name': 'Beyond Van Gogh', 'address': '435 S Market St San Jose, CA 95113', 'reviews': 22, 'keywords': ''}, {'website': 'https://www.winchestermysteryh…', 'name': 'Winchester Mystery House', 'address': '525 S Winchester Blvd San Jose, CA 95128', 'reviews': 2068, 'keywords': ''}, {'website': 'http://www.sanjosemuseumofart.…', 'name': 'San Jose Museum of Art', 'address': '110 S Market St San Jose, CA 95113', 'reviews': 261, 'keywords': ''}, {'website': 'http://www.tritonmuseum.org', 'name': 'Triton Museum of Art', 'address': '1505 Warburton Ave Santa Clara, CA 95050', 'reviews': 55, 'keywords': ''}, {'website': 'http://www.computerhistory.org', 'name': 'Computer History Museum', 'address': '1401 N Shoreline Blvd Mountain View, CA 94043', 'reviews': 324, 'keywords': ''}, {'website': 'http://www.jamsj.org', 'name': 'Japanese American Museum of San Jose', 'address': '535 North 5th St San Jose, CA 95112', 'reviews': 52, 'keywords': ''}]\n"
     ]
    }
   ],
   "source": [
    "# print(COMPANY_PAGES[2])\n",
    "# print(T);\n",
    "i = 0\n",
    "while(i<len(COMPANY_PAGES)):\n",
    "\n",
    "\n",
    "    UND = 0\n",
    "    try:\n",
    "\n",
    "        r = COMPANY_PAGES[i].soup.find(\"span\", class_=\"css-1yy09vp\")\n",
    "        if(r == None):\n",
    "            raise UNDETECTED\n",
    "#        print(r.contents[0])\n",
    "        data[i][\"reviews\"] = int(str(r.contents[0]).replace('reviews',''));\n",
    "\n",
    "\n",
    "        TMP  = COMPANY_PAGES[i].soup.find(\"div\",class_=TARGET_DIV)\n",
    "\n",
    "        if(TMP == None):\n",
    "            raise UNDETECTED\n",
    "        \n",
    "        #Find WBSite\n",
    "        L = TMP.find_all(\"a\")\n",
    "        \n",
    "        for j in range(len(L)):\n",
    "            if(\"/biz_redir?\" in str(L[j])):\n",
    "                data[i][\"website\"] = L[j].contents[0]\n",
    "\n",
    "        #Find Address:\n",
    "        A = TMP.find(\"p\", class_=\"css-1ccncw\");\n",
    "        data[i][\"address\"] = str(A.contents[0])\n",
    "\n",
    "\n",
    "        UND=0\n",
    "\n",
    "    except UNDETECTED:\n",
    "        print(\"Class Undetected[\"+str(UND)+\"] starting in: 5s [id=\"+str(i)+\"]\");\n",
    "        print(\"Retrying . . .\")\n",
    "        COMPANY_PAGES[i] = Scrap(PROTOCAL+DOMAIN+T[i][1]);\n",
    "        ASD(3)\n",
    "        UND+=1\n",
    "        continue;\n",
    "\n",
    "    i+=1;\n",
    "\n",
    "\n",
    "print(data)"
   ]
  }
 ],
 "metadata": {
  "interpreter": {
   "hash": "ac59ebe37160ed0dfa835113d9b8498d9f09ceb179beaac4002f036b9467c963"
  },
  "kernelspec": {
   "display_name": "Python 3.9.6 64-bit",
   "language": "python",
   "name": "python3"
  },
  "language_info": {
   "codemirror_mode": {
    "name": "ipython",
    "version": 3
   },
   "file_extension": ".py",
   "mimetype": "text/x-python",
   "name": "python",
   "nbconvert_exporter": "python",
   "pygments_lexer": "ipython3",
   "version": "3.9.6"
  },
  "orig_nbformat": 4
 },
 "nbformat": 4,
 "nbformat_minor": 2
}
